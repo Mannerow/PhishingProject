{
 "cells": [
  {
   "cell_type": "markdown",
   "id": "c0bc457a",
   "metadata": {},
   "source": [
    "## Import the data\n",
    "\n",
    "Use Pandas to import the data and prepare it for the models"
   ]
  },
  {
   "cell_type": "code",
   "execution_count": null,
   "id": "10d3865c",
   "metadata": {},
   "outputs": [],
   "source": [
    "import pandas as pd\n",
    "import seaborn as sns\n",
    "import matplotlib.pyplot as plt\n",
    "\n",
    "df = pd.read_csv('Dataset/dataset_phishing.csv')\n",
    "\n",
    "#print null\n",
    "print(df.isnull().sum())\n",
    "\n",
    "#remove all null\n",
    "df = df.dropna()\n",
    "\n",
    "#describe statistical data. To stdout\n",
    "with pd.option_context('display.max_columns', 40):\n",
    "    print(df.describe(include='all'))\n",
    "\n",
    "#describe statistical data to text file: out.txt\n",
    "with open('out.txt', 'w') as f:\n",
    "    with pd.option_context('display.max_columns', 40):\n",
    "        print(df.describe(include='all'),file=f)\n",
    "        \n",
    "#shape of data\n",
    "print('Number of rows are',df.shape[0], 'and number of columns are ',df.shape[1])\n",
    "\n",
    "#look at data types of columns\n",
    "print(df.info())\n",
    "\n",
    "#Pair plot\n",
    "plt.figure(figsize=(20,20))\n",
    "sns.pairplot(df)\n",
    "plt.savefig('./Figures/pairplot.png')\n",
    "plt.show()"
   ]
  }
 ],
 "metadata": {
  "kernelspec": {
   "display_name": "Python 3.9 (XPython)",
   "language": "python",
   "name": "xpython"
  },
  "language_info": {
   "file_extension": ".py",
   "mimetype": "text/x-python",
   "name": "python",
   "version": "3.9.9"
  }
 },
 "nbformat": 4,
 "nbformat_minor": 5
}
