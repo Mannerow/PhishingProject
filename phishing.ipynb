{
 "cells": [
  {
   "cell_type": "markdown",
   "id": "1da9afaa",
   "metadata": {},
   "source": [
    "## Import the data\n",
    "\n",
    "Use Pandas to import the data and prepare it for the models"
   ]
  },
  {
   "cell_type": "code",
   "execution_count": null,
   "id": "6bc6e7a2",
   "metadata": {},
   "outputs": [],
   "source": [
    "import pandas as pd\n",
    "import numpy as np\n",
    "#import seaborn as sns\n",
    "import matplotlib.pyplot as plt\n",
    "import seaborn as sns\n",
    "from sklearn.model_selection import train_test_split\n",
    "from sklearn.preprocessing import StandardScaler\n",
    "from sklearn import ensemble\n",
    "from sklearn.model_selection import cross_val_score\n",
    "\n",
    "\n",
    "\n",
    "df = pd.read_csv('Dataset/dataset_phishing.csv')\n",
    "\n",
    "#print null\n",
    "print(df.isnull().sum())\n",
    "\n",
    "#remove all null\n",
    "df = df.dropna()\n",
    "\n",
    "#describe statistical data. To stdout\n",
    "with pd.option_context('display.max_columns', 40):\n",
    "    print(df.describe(include='all'))\n",
    "\n",
    "#describe statistical data to text file: out.txt\n",
    "with open('out.txt', 'w') as f:\n",
    "    with pd.option_context('display.max_columns', 40):\n",
    "        print(df.describe(include='all'),file=f)\n",
    "        \n",
    "#shape of data\n",
    "print('Number of rows are',df.shape[0], 'and number of columns are ',df.shape[1])\n",
    "\n",
    "#look at data types of columns\n",
    "print(df.info())\n",
    "\n",
    "#Pair plot (takes way too long, we need to decide on important features first)\n",
    "# plt.figure(figsize=(20,20))\n",
    "# sns.pairplot(df)\n",
    "# plt.savefig('./Figures/pairplot.png')\n",
    "# plt.show()\n",
    "\n",
    "#encode last column \n",
    "dummy_data = pd.get_dummies(df, columns = ['status'])\n",
    "\n",
    "\n",
    "#Get X and y \n",
    "X = dummy_data.iloc[:,1:-1].values\n",
    "y = dummy_data.iloc[:,-1].values\n",
    "\n",
    "#try printing last column to make sure it's binary\n",
    "print(y)\n",
    "print(X)\n",
    "print(X.shape, y.shape)\n",
    "\n",
    "#Train, test, val split. 60%, 20%, 20%\n",
    "X_train, X_test, y_train, y_test = train_test_split(X, y, test_size=0.2, random_state=1)\n",
    "X_train, X_val, y_train, y_val = train_test_split(X_train, y_train, test_size=0.25, random_state=1) # 0.25 x 0.8 = 0.2\n",
    "\n",
    "#Doing test_train split for now, later cross validation\n",
    "# X_train, X_test, y_train, y_test = train_test_split(X, y, test_size=0.4, random_state=0)\n",
    "\n",
    "print(f\"X_train shape = {X_train.shape}, X_val shape = {X_val.shape}, X_test shape = {X_test.shape}\")\n",
    "print(f\"y_train shape = {y_train.shape}, y_val shape = {y_val.shape}, y_test shape = {y_test.shape}\")"
   ]
  },
  {
   "cell_type": "markdown",
   "id": "96632d1b",
   "metadata": {},
   "source": [
    "## Random Forest Model"
   ]
  },
  {
   "cell_type": "code",
   "execution_count": null,
   "id": "ba028f7b",
   "metadata": {},
   "outputs": [],
   "source": [
    "#Feature scaling. Do we need this??\n",
    "scaler = StandardScaler()\n",
    "X_train = scaler.fit_transform(X_train)\n",
    "#just transform because we already did a fit above ^\n",
    "X_test = scaler.transform(X_test)\n",
    "\n",
    "\n",
    "#Random Forest\n",
    "#default = 100\n",
    "estimators = [10, 100, 500]\n",
    "#default = None\n",
    "max_leaf = [10, 50, None]\n",
    "\n",
    "random_state = [0,20,40]\n",
    "bestModel = 0\n",
    "bestScore = 0\n",
    "bestParams = [0,0,0]\n",
    "\n",
    "#parellel arrays, so I can have the best, and also some worse models\n",
    "scores = []\n",
    "models = []\n",
    "\n",
    "\n",
    "#will probably want to do some learning curves here \n",
    "for e in estimators:\n",
    "    for m in max_leaf:\n",
    "        for r in random_state:\n",
    "            model = ensemble.RandomForestClassifier(n_estimators=e, max_leaf_nodes=m, random_state=r)\n",
    "            model.fit(X_train,y_train.flatten())\n",
    "            print(f\"Training Score: {model.score(X_train,y_train)}\")\n",
    "            # it makes predictions using X_test under the hood and uses those predictions to calculate accuracy score\n",
    "            score = model.score(X_val,y_val)\n",
    "            models.append(model)\n",
    "            scores.append(score)\n",
    "            print(f\"Validation Score: n_estimators = {e}, max_leaf = {m} , random = {r}, Score = {score}\")\n",
    "            if score > bestScore:\n",
    "                bestModel = model\n",
    "                bestScore = score\n",
    "                bestParams = [e,m,r]\n",
    "                \n",
    "            \n",
    "\n",
    "print(f\"Best Model: n_estimators = {bestParams[0]}, max_leaf = {bestParams[1]} , random = {bestParams[2]}, Score = {bestScore}\")\n",
    "\n",
    "#check test score of best model\n",
    "print(f\"Best Model Test Score: {bestModel.score(X_test, y_test)}\")\n",
    "\n",
    "scores = np.array(scores)\n",
    "models = np.array(models, dtype=object)\n",
    "\n",
    "#sorts in ascending order\n",
    "bestIndices = np.argsort(scores)\n",
    "ascendingModels = []\n",
    "for i in bestIndices:\n",
    "    ascendingModels.append(models[i])\n",
    "    \n",
    "print(ascendingModels[-1])\n",
    "bestModel2 = ascendingModels[-1]\n",
    "print(ascendingModels[0])\n",
    "worstModel = ascendingModels[0]\n",
    "\n",
    "    \n",
    "\n"
   ]
  },
  {
   "cell_type": "markdown",
   "id": "6620dbd1",
   "metadata": {},
   "source": [
    "## Learning Curves for Random Forest"
   ]
  },
  {
   "cell_type": "code",
   "execution_count": 10,
   "id": "a2865e24",
   "metadata": {},
   "outputs": [
    {
     "data": {
      "image/png": "[encoded data removed]",
      "text/plain": [
       "<Figure size 1008x360 with 3 Axes>"
      ]
     },
     "metadata": {
      "needs_background": "light"
     },
     "output_type": "display_data"
    }
   ],
   "source": [
    "# #Learning curve for best model (and maybe try another model or 2?)\n",
    "from sklearn.metrics import mean_squared_error\n",
    "\n",
    "# reccomended - a function to compute data and draw the learning curves\n",
    "def plot_learning_curves(model, Xtrain, ytrain, Xval, yval, ax):\n",
    "    \n",
    "    mTrain = Xtrain.shape[0]\n",
    "    \n",
    "    #will be used to graph later\n",
    "    Jtrain = []\n",
    "    Jval = []\n",
    "    \n",
    "    trainingExamples = 20\n",
    "    \n",
    "    #loop up to mTrain, taking small subsets of the train data set from 1-mTrain\n",
    "    for m in range(1,trainingExamples):\n",
    "        #create subset of training data\n",
    "        XTrainTemp = Xtrain[0:m,:]\n",
    "        yTrainTemp = ytrain[0:m]\n",
    "\n",
    "        model.fit(Xtrain, ytrain.flatten())\n",
    "        yTrainPred = model.predict(XTrainTemp)\n",
    "        #test validation on the whole data set\n",
    "        yValPred = model.predict(Xval)\n",
    "#         print(yTrainTemp.shape)\n",
    "#         print(yTrainPred.shape)\n",
    "        \n",
    "        #squared = False -> RMSE rather than MSE\n",
    "        Jtrain.append(mean_squared_error(yTrainTemp,yTrainPred, squared=False ))\n",
    "        #also need to test validation on the whole set\n",
    "        Jval.append(mean_squared_error(yval,yValPred, squared=False ))\n",
    "    #plot\n",
    "    ax.set_xlabel('Training Set Size')\n",
    "    ax.set_ylabel('RMSE')\n",
    "    i = [int(x) for x in range(1,trainingExamples)]\n",
    "    ax.plot(i,Jtrain,\"r-|\",label=\"train\")\n",
    "    ax.plot(i,Jval,\"bx-\",label=\"val\")\n",
    "    ax.legend(loc = 'best')\n",
    "    \n",
    "fig = plt.figure(figsize=(14, 5))\n",
    "fig.subplots_adjust(wspace=0.3)\n",
    "ax1 = fig.add_subplot(131)\n",
    "ax1.set_title(\"Worst Model\")\n",
    "ax2 = fig.add_subplot(132)\n",
    "ax2.set_title(\"Best Model\")\n",
    "ax3 = fig.add_subplot(133)\n",
    "ax3.set_title(\"Best Model 2\")\n",
    "ax2.set_ylim(0,0.001);\n",
    "ax3.set_ylim(0,0.001);\n",
    "\n",
    "# ax3.set_ylim(0,200);\n",
    "    \n",
    "#Learning Curvues for Random Forest \n",
    "\n",
    "#worst model, a litle underfitting\n",
    "plot_learning_curves(worstModel, X_train, y_train, X_val, y_val, ax1)\n",
    "#next 2 are both 100%\n",
    "plot_learning_curves(bestModel, X_train, y_train, X_val, y_val, ax2)\n",
    "plot_learning_curves(bestModel2, X_train, y_train, X_val, y_val, ax3)\n",
    "    \n"
   ]
  },
  {
   "cell_type": "markdown",
   "id": "c2fae00c",
   "metadata": {},
   "source": [
    "## Feature Importance for Random Forest"
   ]
  },
  {
   "cell_type": "code",
   "execution_count": null,
   "id": "7630d4d3",
   "metadata": {},
   "outputs": [],
   "source": [
    "#probabilities that determine each feature's importance\n",
    "featureImportance = bestModel.feature_importances_\n",
    "# print(featureImportance)\n",
    "# print(featureImportance.shape)\n",
    "\n",
    "#in ascneding order\n",
    "sortedIndices = np.argsort(featureImportance)\n",
    "descendingIndices = np.flip(sortedIndices,0)\n",
    "\n",
    "#a list that goes from best -> worst features\n",
    "bestFeatures = []\n",
    "for i in descendingIndices:\n",
    "    bestFeatures.append(df.columns[i])\n",
    "    \n",
    "print(\"Here are the 10 best features\")\n",
    "for i in range(10):\n",
    "    print(bestFeatures[i])\n",
    "    \n",
    "\n"
   ]
  },
  {
   "cell_type": "code",
   "execution_count": null,
   "id": "58b1ebad",
   "metadata": {},
   "outputs": [],
   "source": [
    "## Data Visualization With Best Features"
   ]
  },
  {
   "cell_type": "code",
   "execution_count": null,
   "id": "396bf0d6",
   "metadata": {},
   "outputs": [],
   "source": [
    "# plt.figure(figsize=(20,20))\n",
    "# sns.pairplot(df, vars = bestFeatures)\n",
    "# plt.savefig('./Figures/pairplot.png')\n",
    "# plt.show()"
   ]
  },
  {
   "cell_type": "markdown",
   "id": "76e952c0",
   "metadata": {},
   "source": [
    "## Clustering"
   ]
  },
  {
   "cell_type": "code",
   "execution_count": 9,
   "id": "c5f1dd6c",
   "metadata": {},
   "outputs": [
    {
     "name": "stdout",
     "output_type": "stream",
     "text": [
      "-526853.9683796194\n"
     ]
    }
   ],
   "source": [
    "from sklearn.cluster import KMeans\n",
    "km1 = KMeans(n_clusters=2, random_state=0).fit(X_train)\n",
    "#This doesn't really make sense. Hmmm\n",
    "print(km1.score(X_train, y_train))"
   ]
  },
  {
   "cell_type": "markdown",
   "id": "6ce48bd3",
   "metadata": {},
   "source": [
    "## Cross Validation on Random Forest Model"
   ]
  },
  {
   "cell_type": "code",
   "execution_count": null,
   "id": "63c91755",
   "metadata": {},
   "outputs": [],
   "source": [
    "for e in estimators[:-2]:\n",
    "    for m in max_leaf[:-2]:\n",
    "        for r in random_state[:-2]:\n",
    "            model = ensemble.RandomForestClassifier(n_estimators=e, max_leaf_nodes=m, random_state=r)\n",
    "            model.fit(X_train,y_train.flatten())\n",
    "            # it makes predictions using X_test under the hood and uses those predictions to calculate accuracy score\n",
    "            score = cross_val_score(model, X, y.flatten(), cv=5)\n",
    "            print(f\"model - estimators = {e}; max_leaf = {m}; random_state = {r}:{score}\")"
   ]
  },
  {
   "cell_type": "code",
   "execution_count": null,
   "id": "3c2049af",
   "metadata": {},
   "outputs": [],
   "source": []
  }
 ],
 "metadata": {
  "kernelspec": {
   "display_name": "Python 3 (ipykernel)",
   "language": "python",
   "name": "python3"
  },
  "language_info": {
   "codemirror_mode": {
    "name": "ipython",
    "version": 3
   },
   "file_extension": ".py",
   "mimetype": "text/x-python",
   "name": "python",
   "nbconvert_exporter": "python",
   "pygments_lexer": "ipython3",
   "version": "3.9.1"
  }
 },
 "nbformat": 4,
 "nbformat_minor": 5
}
